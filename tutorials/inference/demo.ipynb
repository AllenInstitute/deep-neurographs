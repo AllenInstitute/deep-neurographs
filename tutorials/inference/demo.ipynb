{
 "cells": [
  {
   "cell_type": "markdown",
   "id": "20a774aa-6f47-4184-b582-bef0033a39ed",
   "metadata": {},
   "source": [
    "# Single Neuron Reconstruction"
   ]
  },
  {
   "cell_type": "raw",
   "id": "a3a851a2-5ed1-431b-b0f7-dab38b4d3e7b",
   "metadata": {},
   "source": [
    "The first step is to download the following github repo:\n",
    "https://github.com/AllenInstitute/deep-neurographs.git\n",
    "\n",
    "Note that at some point this repo will be renamed \"graph-trace\"."
   ]
  },
  {
   "cell_type": "raw",
   "id": "30d055df-97ca-4165-93f7-6201b64faddf",
   "metadata": {},
   "source": [
    "Now go ahead and run \"pip install -e .\" in the main directory of this repo."
   ]
  },
  {
   "cell_type": "markdown",
   "id": "e2e08838-6fd1-47b4-93b6-cde41e69a7b7",
   "metadata": {},
   "source": [
    "## Part 1: Overview of Data"
   ]
  },
  {
   "cell_type": "code",
   "execution_count": 1,
   "id": "8689871b-3280-4c84-81fd-aafba1b913eb",
   "metadata": {
    "tags": []
   },
   "outputs": [],
   "source": [
    "# Imports\n",
    "import matplotlib.pyplot as plt\n",
    "import numpy as np\n",
    "import pickle\n",
    "\n",
    "from deep_neurographs import evaluation as evaluator, inference, visualization as viz\n",
    "from deep_neurographs.utils import ml_util, util\n"
   ]
  },
  {
   "cell_type": "markdown",
   "id": "8f663a8f-557c-48d9-a98c-4c20a2979465",
   "metadata": {},
   "source": [
    "### Load Data"
   ]
  },
  {
   "cell_type": "raw",
   "id": "a92db87a-5797-4bfb-858a-64869b36421f",
   "metadata": {},
   "source": [
    "We’ll begin by loading an input graph which is an instance of a class called \"FragmentsGraph\". The connected components (i.e. fragments) in this graph correspond to skeletonized segments from an image segmentation.\n"
   ]
  },
  {
   "cell_type": "code",
   "execution_count": 2,
   "id": "c03b4b4c-a252-4285-a3b4-17caec8969d5",
   "metadata": {
    "tags": []
   },
   "outputs": [
    {
     "name": "stdout",
     "output_type": "stream",
     "text": [
      "<class 'deep_neurographs.fragments_graph.FragmentsGraph'>\n"
     ]
    }
   ],
   "source": [
    "# Parameters\n",
    "brain_id = \"706301\"\n",
    "example_id = \"000\"\n",
    "plot_bool = False\n",
    "\n",
    "# Read graph\n",
    "input_filename = f\"input_graph_{brain_id}-{example_id}.pkl\"\n",
    "path = f\"./input_graphs/{input_filename}\"\n",
    "with open(path, \"rb\") as file:\n",
    "    input_graph = pickle.load(file)\n",
    "print(type(input_graph))"
   ]
  },
  {
   "cell_type": "markdown",
   "id": "868873ff-6cdc-4186-a0e7-585553a8194a",
   "metadata": {},
   "source": [
    "### Graph Structure and Attributes"
   ]
  },
  {
   "cell_type": "raw",
   "id": "f0b1fa80-fc63-4b59-ae29-ac4798a4fab1",
   "metadata": {},
   "source": [
    "A \"FragmentsGraph\" instance is a sparse graph where each node corresponds to either a leaf or branching node (i.e., node with degree 1 or degree ≥ 3). This graph is also geometric in the sense that each node has an \"xyz\" attribute representing a 3D coordinate. The edges contain an array of xyz coordinates which represent the neuron arbor between two points. There are additional attributes including the neuron radius (in microns), fragment filename (swc_id), and proposals.\n",
    "\n",
    "Note that this class is a subclass of networkx.Graph."
   ]
  },
  {
   "cell_type": "code",
   "execution_count": 3,
   "id": "8541a17a-1714-4db8-9549-c7d79a122135",
   "metadata": {
    "tags": []
   },
   "outputs": [
    {
     "name": "stdout",
     "output_type": "stream",
     "text": [
      "Node attributes: {'proposals': set(), 'radius': 2.876378, 'swc_id': '8620232733', 'xyz': array([20653.936, 15505.35 , 24001.533], dtype=float32)}\n"
     ]
    }
   ],
   "source": [
    "node = util.sample_once(input_graph.nodes)\n",
    "print(\"Node attributes:\", input_graph.nodes[node])"
   ]
  },
  {
   "cell_type": "code",
   "execution_count": 4,
   "id": "90d851bb-ac29-4ec2-b907-9f342aee2f61",
   "metadata": {
    "tags": []
   },
   "outputs": [
    {
     "name": "stdout",
     "output_type": "stream",
     "text": [
      "Edge attributes: {'length': 121.89750123023987, 'radius': array([2.244, 2.877, 2.992, 3.098, 3.242, 3.154, 3.098, 3.328, 3.328,\n",
      "       3.098, 3.492, 3.352, 3.672, 3.82 , 4.035, 3.82 , 3.672, 4.035,\n",
      "       4.035, 3.676, 3.896, 3.752, 3.746, 3.896, 3.871, 3.492, 3.676,\n",
      "       3.871, 3.74 , 3.74 , 3.74 , 3.676, 3.346, 3.328, 3.242, 3.092,\n",
      "       3.346, 3.242, 3.328, 3.492, 3.74 , 3.492, 3.492, 3.74 , 3.74 ,\n",
      "       3.814, 4.15 , 3.871, 4.15 , 3.943, 3.752, 3.896, 3.6  , 3.676,\n",
      "       3.492, 3.752, 3.896, 3.672, 3.746, 3.746, 3.871, 3.74 , 3.752,\n",
      "       3.672, 3.896, 3.871, 3.6  , 3.676, 3.6  , 3.6  , 3.676, 3.74 ,\n",
      "       4.15 , 3.871, 3.492, 3.676, 4.15 , 3.896, 3.676, 3.6  , 3.6  ,\n",
      "       3.752, 3.672, 3.676, 3.74 , 3.74 , 3.896, 3.814, 3.74 , 3.896,\n",
      "       3.676, 3.672, 3.752, 3.896, 3.896, 3.752, 3.676, 3.752, 3.896,\n",
      "       3.752, 3.896, 3.672, 3.82 , 3.752, 3.752, 3.6  , 3.6  , 3.672,\n",
      "       3.672, 3.006, 2.568, 2.135, 1.948], dtype=float16), 'xyz': array([[20663.166 , 15373.55  , 24215.508 ],\n",
      "       [20662.465 , 15372.805 , 24215.285 ],\n",
      "       [20661.77  , 15372.059 , 24215.06  ],\n",
      "       [20661.08  , 15371.313 , 24214.828 ],\n",
      "       [20660.396 , 15370.568 , 24214.594 ],\n",
      "       [20659.719 , 15369.822 , 24214.354 ],\n",
      "       [20659.047 , 15369.077 , 24214.11  ],\n",
      "       [20658.38  , 15368.331 , 24213.861 ],\n",
      "       [20657.723 , 15367.586 , 24213.607 ],\n",
      "       [20657.068 , 15366.84  , 24213.35  ],\n",
      "       [20656.422 , 15366.095 , 24213.088 ],\n",
      "       [20655.781 , 15365.349 , 24212.82  ],\n",
      "       [20655.146 , 15364.604 , 24212.549 ],\n",
      "       [20654.518 , 15363.857 , 24212.273 ],\n",
      "       [20653.895 , 15363.111 , 24211.994 ],\n",
      "       [20653.277 , 15362.366 , 24211.709 ],\n",
      "       [20652.666 , 15361.62  , 24211.42  ],\n",
      "       [20652.062 , 15360.874 , 24211.127 ],\n",
      "       [20651.463 , 15360.129 , 24210.828 ],\n",
      "       [20650.871 , 15359.383 , 24210.527 ],\n",
      "       [20650.285 , 15358.637 , 24210.219 ],\n",
      "       [20649.705 , 15357.891 , 24209.908 ],\n",
      "       [20649.13  , 15357.145 , 24209.592 ],\n",
      "       [20648.562 , 15356.398 , 24209.271 ],\n",
      "       [20648.    , 15355.652 , 24208.947 ],\n",
      "       [20647.445 , 15354.906 , 24208.617 ],\n",
      "       [20646.895 , 15354.16  , 24208.283 ],\n",
      "       [20646.352 , 15353.414 , 24207.945 ],\n",
      "       [20645.812 , 15352.668 , 24207.604 ],\n",
      "       [20645.281 , 15351.922 , 24207.256 ],\n",
      "       [20644.756 , 15351.176 , 24206.904 ],\n",
      "       [20644.236 , 15350.43  , 24206.547 ],\n",
      "       [20643.723 , 15349.684 , 24206.188 ],\n",
      "       [20643.217 , 15348.9375, 24205.822 ],\n",
      "       [20642.715 , 15348.19  , 24205.451 ],\n",
      "       [20642.22  , 15347.444 , 24205.078 ],\n",
      "       [20641.73  , 15346.698 , 24204.7   ],\n",
      "       [20641.248 , 15345.952 , 24204.316 ],\n",
      "       [20640.771 , 15345.205 , 24203.928 ],\n",
      "       [20640.3   , 15344.459 , 24203.537 ],\n",
      "       [20639.836 , 15343.712 , 24203.14  ],\n",
      "       [20639.377 , 15342.966 , 24202.738 ],\n",
      "       [20638.924 , 15342.22  , 24202.334 ],\n",
      "       [20638.479 , 15341.473 , 24201.924 ],\n",
      "       [20638.037 , 15340.727 , 24201.51  ],\n",
      "       [20637.604 , 15339.9795, 24201.09  ],\n",
      "       [20637.174 , 15339.232 , 24200.666 ],\n",
      "       [20636.752 , 15338.486 , 24200.238 ],\n",
      "       [20636.336 , 15337.739 , 24199.807 ],\n",
      "       [20635.926 , 15336.992 , 24199.37  ],\n",
      "       [20635.523 , 15336.246 , 24198.928 ],\n",
      "       [20635.125 , 15335.499 , 24198.482 ],\n",
      "       [20634.732 , 15334.752 , 24198.033 ],\n",
      "       [20634.348 , 15334.005 , 24197.578 ],\n",
      "       [20633.967 , 15333.259 , 24197.12  ],\n",
      "       [20633.594 , 15332.512 , 24196.654 ],\n",
      "       [20633.227 , 15331.765 , 24196.188 ],\n",
      "       [20632.861 , 15331.018 , 24195.725 ],\n",
      "       [20632.494 , 15330.2705, 24195.28  ],\n",
      "       [20632.125 , 15329.523 , 24194.85  ],\n",
      "       [20631.754 , 15328.776 , 24194.438 ],\n",
      "       [20631.38  , 15328.029 , 24194.04  ],\n",
      "       [20631.006 , 15327.282 , 24193.66  ],\n",
      "       [20630.629 , 15326.535 , 24193.297 ],\n",
      "       [20630.25  , 15325.788 , 24192.95  ],\n",
      "       [20629.87  , 15325.041 , 24192.617 ],\n",
      "       [20629.486 , 15324.294 , 24192.303 ],\n",
      "       [20629.102 , 15323.546 , 24192.006 ],\n",
      "       [20628.715 , 15322.799 , 24191.723 ],\n",
      "       [20628.326 , 15322.052 , 24191.459 ],\n",
      "       [20627.936 , 15321.305 , 24191.209 ],\n",
      "       [20627.543 , 15320.557 , 24190.977 ],\n",
      "       [20627.148 , 15319.81  , 24190.762 ],\n",
      "       [20626.752 , 15319.0625, 24190.56  ],\n",
      "       [20626.354 , 15318.314 , 24190.377 ],\n",
      "       [20625.955 , 15317.567 , 24190.21  ],\n",
      "       [20625.553 , 15316.819 , 24190.06  ],\n",
      "       [20625.148 , 15316.072 , 24189.926 ],\n",
      "       [20624.742 , 15315.324 , 24189.809 ],\n",
      "       [20624.334 , 15314.577 , 24189.707 ],\n",
      "       [20623.924 , 15313.829 , 24189.623 ],\n",
      "       [20623.514 , 15313.082 , 24189.555 ],\n",
      "       [20623.1   , 15312.334 , 24189.502 ],\n",
      "       [20622.684 , 15311.586 , 24189.467 ],\n",
      "       [20622.266 , 15310.839 , 24189.447 ],\n",
      "       [20621.844 , 15310.091 , 24189.432 ],\n",
      "       [20621.412 , 15309.343 , 24189.408 ],\n",
      "       [20620.973 , 15308.595 , 24189.375 ],\n",
      "       [20620.525 , 15307.848 , 24189.334 ],\n",
      "       [20620.068 , 15307.1   , 24189.285 ],\n",
      "       [20619.604 , 15306.352 , 24189.227 ],\n",
      "       [20619.13  , 15305.604 , 24189.158 ],\n",
      "       [20618.65  , 15304.855 , 24189.082 ],\n",
      "       [20618.16  , 15304.107 , 24188.998 ],\n",
      "       [20617.662 , 15303.359 , 24188.904 ],\n",
      "       [20617.154 , 15302.611 , 24188.803 ],\n",
      "       [20616.64  , 15301.863 , 24188.691 ],\n",
      "       [20616.117 , 15301.115 , 24188.572 ],\n",
      "       [20615.584 , 15300.367 , 24188.445 ],\n",
      "       [20615.045 , 15299.619 , 24188.309 ],\n",
      "       [20614.496 , 15298.871 , 24188.162 ],\n",
      "       [20613.94  , 15298.122 , 24188.008 ],\n",
      "       [20613.373 , 15297.374 , 24187.846 ],\n",
      "       [20612.799 , 15296.626 , 24187.676 ],\n",
      "       [20612.217 , 15295.878 , 24187.494 ],\n",
      "       [20611.627 , 15295.129 , 24187.307 ],\n",
      "       [20611.027 , 15294.381 , 24187.11  ],\n",
      "       [20610.42  , 15293.633 , 24186.902 ],\n",
      "       [20609.805 , 15292.884 , 24186.688 ],\n",
      "       [20609.182 , 15292.136 , 24186.465 ],\n",
      "       [20608.549 , 15291.387 , 24186.232 ],\n",
      "       [20607.908 , 15290.639 , 24185.992 ],\n",
      "       [20607.258 , 15289.89  , 24185.744 ]], dtype=float32), 'swc_id': '8618851021'}\n"
     ]
    }
   ],
   "source": [
    "edge = util.sample_once(input_graph.edges)\n",
    "print(\"Edge attributes:\", input_graph.edges[edge])"
   ]
  },
  {
   "cell_type": "raw",
   "id": "b49f05f0-2dd0-468c-aeed-a6cc28c02309",
   "metadata": {},
   "source": [
    "Here is a visualization of the graph where each connected component is depicted in a different color."
   ]
  },
  {
   "cell_type": "code",
   "execution_count": 5,
   "id": "f8da1a07-7745-49cc-affb-083eef50d567",
   "metadata": {
    "tags": []
   },
   "outputs": [],
   "source": [
    "if plot_bool:\n",
    "    viz.visualize_graph(input_graph)"
   ]
  },
  {
   "cell_type": "markdown",
   "id": "f4b602de-c0e3-44bc-89f8-70238f6b5234",
   "metadata": {},
   "source": [
    "### Proposal Generation"
   ]
  },
  {
   "cell_type": "raw",
   "id": "632fa902-b4d0-4781-b9cd-5ad7c7e88df8",
   "metadata": {},
   "source": [
    "Our objective is to reconnect fragments in order to reconstruct the projections of individual neurons on a whole-brain scale. We generate \"edge proposals\", or just proposals, by iterating over all leaf nodes and connecting them to other leaf nodes within 30um. In this example, the proposals have already been generated and are stored as a graph-level attribute called \"proposals\". This attribute is a set containing pairs of nodes stored as a frozenset.\n",
    "\n",
    "Note: This repo supports the option to generate proposals between leaf nodes and a point in the middle of an edge. We refer to this type of proposal as a \"complex\" and a proposal between two leaf nodes as \"simple\". I've found that the models tend to have significantly lower precision for complex precisions. I typically only generate simple proposals during training and inference since precision is extremely important in this application."
   ]
  },
  {
   "cell_type": "code",
   "execution_count": 6,
   "id": "9825c712-04bd-4f89-9291-7718eb859427",
   "metadata": {
    "tags": []
   },
   "outputs": [
    {
     "name": "stdout",
     "output_type": "stream",
     "text": [
      "Example of a proposal: frozenset({845, 247})\n"
     ]
    }
   ],
   "source": [
    "print(\"Example of a proposal:\", util.sample_once(input_graph.proposals))"
   ]
  },
  {
   "cell_type": "code",
   "execution_count": 7,
   "id": "00e208e9-2e5b-4ecd-b6e1-53d5aa168315",
   "metadata": {
    "tags": []
   },
   "outputs": [
    {
     "name": "stdout",
     "output_type": "stream",
     "text": [
      "# Proposals: 450\n"
     ]
    }
   ],
   "source": [
    "print(\"# Proposals:\", len(input_graph.proposals))"
   ]
  },
  {
   "cell_type": "raw",
   "id": "2cd9d119-c2e3-40d2-8a2c-bb540be6a2cf",
   "metadata": {},
   "source": [
    "Here is a visualization of the input graph shown in black and proposals shown in orange."
   ]
  },
  {
   "cell_type": "code",
   "execution_count": 8,
   "id": "03781b67-b099-4627-96e0-049d5076069c",
   "metadata": {
    "tags": []
   },
   "outputs": [],
   "source": [
    "if plot_bool:\n",
    "    viz.visualize_proposals(input_graph, color=\"orange\")"
   ]
  },
  {
   "cell_type": "markdown",
   "id": "5349321c-4ed1-4948-8e4e-07f5930a94a3",
   "metadata": {},
   "source": [
    "### Ground Truth"
   ]
  },
  {
   "cell_type": "raw",
   "id": "4a139c61-6b88-4202-9030-e803768520d4",
   "metadata": {},
   "source": [
    "A human annotator manually traced every individual neuron in the image chunk that the input graph is contained within. There is a module within this repo that uses these tracings to algorithmically determine which proposals should be accepted. One important detail is that this algorithm is almost always correct (approx 95-99%), but there a few mistakes. There are some cases where the fragments are not well aligned to the tracings due image artifacts. As you look closer at these tracings and fragments, you'll see that determining the groundtruth isn't always straightforward.\n",
    "\n",
    "The groundtruth for the proposals as the list of proposals that should be accepted. In the cells below, we show you how to access the ground truth accepts and visualize them."
   ]
  },
  {
   "cell_type": "code",
   "execution_count": 9,
   "id": "e93c34c2-74a9-4120-8d79-cf3da5e6c71d",
   "metadata": {
    "tags": []
   },
   "outputs": [
    {
     "name": "stdout",
     "output_type": "stream",
     "text": [
      "This is a proposal that should be accepted: frozenset({849, 810})\n"
     ]
    }
   ],
   "source": [
    "p = util.sample_once(input_graph.gt_accepts)\n",
    "print(\"This is a proposal that should be accepted:\", p)"
   ]
  },
  {
   "cell_type": "raw",
   "id": "b2034f30-b6cc-4b41-8fe6-61089246c3ca",
   "metadata": {},
   "source": [
    "Next, let's visualize the ground truth accepts with the ground truth tracings. In the plot below: fragments are black, proposals are orange, and ground truth tracings are colored such that each connected component is a different color."
   ]
  },
  {
   "cell_type": "code",
   "execution_count": 10,
   "id": "80a77b89-dc36-44c3-8a71-9bd2a474b748",
   "metadata": {
    "tags": []
   },
   "outputs": [],
   "source": [
    "groundtruth_filename = f\"groundtruth_graph_{brain_id}-{example_id}.pkl\"\n",
    "path = f\"./groundtruth_graphs/{groundtruth_filename}\"\n",
    "with open(path, \"rb\") as file:\n",
    "    groundtruth_graph = pickle.load(file)"
   ]
  },
  {
   "cell_type": "code",
   "execution_count": 11,
   "id": "3ce4ddc1-9eee-4410-b8ae-889a6f115204",
   "metadata": {
    "tags": []
   },
   "outputs": [],
   "source": [
    "if plot_bool:\n",
    "    viz.visualize_subset(\n",
    "        input_graph,\n",
    "        input_graph.gt_accepts,\n",
    "        proposal_subset=True,\n",
    "        color=\"orange\",\n",
    "        groundtruth_graph=groundtruth_graph\n",
    "    )"
   ]
  },
  {
   "cell_type": "markdown",
   "id": "246ed870-7b1b-4e7a-b4b9-1c8584224963",
   "metadata": {},
   "source": [
    "## Part 2: Inference"
   ]
  },
  {
   "cell_type": "markdown",
   "id": "ecd7e043-8584-47e0-b0f8-fe6b2d5ec5bd",
   "metadata": {},
   "source": [
    "### Features"
   ]
  },
  {
   "cell_type": "raw",
   "id": "3ee34371-5492-4d92-86e1-dcf4f4108ac1",
   "metadata": {},
   "source": [
    "Next we'll load precomputed features for this graph.\n",
    "\n",
    "Note that we use the term \"branch\" to refer to edges from the input graph."
   ]
  },
  {
   "cell_type": "code",
   "execution_count": 12,
   "id": "3e8dcacc-9884-445e-b613-4fe9da198191",
   "metadata": {
    "tags": []
   },
   "outputs": [
    {
     "name": "stdout",
     "output_type": "stream",
     "text": [
      "type(features): <class 'dict'>\n",
      "features.keys(): dict_keys(['nodes', 'branches', 'proposals'])\n"
     ]
    }
   ],
   "source": [
    "features_filename = f\"input_graph_features_{brain_id}-{example_id}.pkl\"\n",
    "with open(f\"./features/{features_filename}\", \"rb\") as file:\n",
    "    features = pickle.load(file)\n",
    "print(\"type(features):\", type(features))\n",
    "print(\"features.keys():\", features.keys())"
   ]
  },
  {
   "cell_type": "raw",
   "id": "6a1b992b-9f9b-4de0-86b9-60a725bd4a8c",
   "metadata": {},
   "source": [
    "Here's an example that gives you an idea of how the features are stored."
   ]
  },
  {
   "cell_type": "code",
   "execution_count": 13,
   "id": "8aa24b56-69d7-4f1c-949e-b1c1de930c7d",
   "metadata": {
    "tags": []
   },
   "outputs": [
    {
     "name": "stdout",
     "output_type": "stream",
     "text": [
      "Node features: [1.        1.9487226 1.       ]\n",
      "Branch features: [3.5703125 0.4495839]\n",
      "Proposal features: [ 1.02664757  1.          1.9487226   0.74800003  0.94381189  0.93759209\n",
      " -0.77196389  0.97471601  0.94499475 -0.87623787  0.98620063  0.93834901\n",
      " -0.88250554  0.98620063  0.93834901 -0.88250554  0.32191781  0.32191781\n",
      "  0.36986301  0.34246575  0.32191781  0.25342466  0.24657534  0.33561644\n",
      "  0.24657534  0.33561644  0.23287671  0.28082192  0.21917808  0.25342466\n",
      "  0.20547945  0.21232877  0.28125     0.0519075 ]\n"
     ]
    }
   ],
   "source": [
    "# Node features\n",
    "node = util.sample_once(input_graph.nodes)\n",
    "print(\"Node features:\", features[\"nodes\"][node])\n",
    "\n",
    "# Branch features\n",
    "branch = util.sample_once(input_graph.edges)\n",
    "print(\"Branch features:\", features[\"branches\"][frozenset(branch)])\n",
    "\n",
    "# Proposal features\n",
    "proposal = util.sample_once(input_graph.proposals)\n",
    "print(\"Proposal features:\", features[\"proposals\"][proposal])"
   ]
  },
  {
   "cell_type": "markdown",
   "id": "51176370-29c1-45bc-b04f-99055f254527",
   "metadata": {},
   "source": [
    "### Dataset"
   ]
  },
  {
   "cell_type": "raw",
   "id": "dcf11130-0b00-4996-b798-47d6d3768fed",
   "metadata": {},
   "source": [
    "Next, we'll initialize an instance of a custom heterogeneous graph dataset, which organizes the feature vectors of nodes, branches, and proposals into individual matrices. This class has an \"index mappings\" attributes that map node, branch, or proposal IDs to their respective indices in the feature matrix. \n",
    "\n",
    "The computation graph for our GNN combines the input graph with all proposals added as edges, making it heterogeneous, with edges labeled as either 'branch' (original edges) or 'proposal'. We'll convert this computation graph into a line graph so that we can more easily apply message passing modules from PyTorch_Geometric.\n"
   ]
  },
  {
   "cell_type": "code",
   "execution_count": 14,
   "id": "ee123b31-6cdb-4a44-814e-50783c0c7ad3",
   "metadata": {
    "tags": []
   },
   "outputs": [],
   "source": [
    "dataset = ml_util.init_dataset(\n",
    "    input_graph,\n",
    "    features,\n",
    "    computation_graph=input_graph\n",
    ")"
   ]
  },
  {
   "cell_type": "code",
   "execution_count": 15,
   "id": "18e59d76-6fa5-47a0-9dd8-fc29cfe0b479",
   "metadata": {
    "tags": []
   },
   "outputs": [
    {
     "name": "stdout",
     "output_type": "stream",
     "text": [
      "Dataset Attributes: dict_keys(['idxs_branches', 'idxs_proposals', 'computation_graph', 'proposals', 'node_types', 'edge_types', 'data', 'n_edge_attrs'])\n"
     ]
    }
   ],
   "source": [
    "print(\"Dataset Attributes:\", dataset.__dict__.keys())"
   ]
  },
  {
   "cell_type": "code",
   "execution_count": 16,
   "id": "635617d2-ca8a-4735-99b9-65cc7d677127",
   "metadata": {
    "tags": []
   },
   "outputs": [
    {
     "name": "stdout",
     "output_type": "stream",
     "text": [
      "Index mappings for proposals: dict_keys(['idx_to_id', 'id_to_idx'])\n"
     ]
    }
   ],
   "source": [
    "print(\"Index mappings for proposals:\", dataset.idxs_proposals.keys())"
   ]
  },
  {
   "cell_type": "code",
   "execution_count": 17,
   "id": "3982a7f9-fccb-4b08-a558-79dcda790e51",
   "metadata": {
    "tags": []
   },
   "outputs": [
    {
     "name": "stdout",
     "output_type": "stream",
     "text": [
      "The feature vector of proposal 'frozenset({621, 606})' is in the 280-th row of the feature matrix dataset.data['proposal'].x\n"
     ]
    }
   ],
   "source": [
    "proposal = util.sample_once(input_graph.proposals)\n",
    "idx = dataset.idxs_proposals[\"id_to_idx\"][proposal]\n",
    "print(f\"The feature vector of proposal '{proposal}' is in the {idx}-th row of the feature matrix dataset.data['proposal'].x\")"
   ]
  },
  {
   "cell_type": "raw",
   "id": "6d04b44e-fd56-4ab4-9fd6-91f9cc29ccdf",
   "metadata": {},
   "source": [
    "Here is a sanity check that the idx mapping is correct."
   ]
  },
  {
   "cell_type": "code",
   "execution_count": 18,
   "id": "f39a092f-43d3-4457-87a2-2801eb23a6a4",
   "metadata": {
    "tags": []
   },
   "outputs": [
    {
     "name": "stdout",
     "output_type": "stream",
     "text": [
      "[ 0.00000000e+00  0.00000000e+00  0.00000000e+00  0.00000000e+00\n",
      "  0.00000000e+00  0.00000000e+00  0.00000000e+00  0.00000000e+00\n",
      "  0.00000000e+00  0.00000000e+00  0.00000000e+00  0.00000000e+00\n",
      "  0.00000000e+00  0.00000000e+00  0.00000000e+00  0.00000000e+00\n",
      " -5.54461813e-09  4.85154086e-09  4.85154086e-09 -2.07923179e-09\n",
      " -2.07923179e-09 -2.07923179e-09 -2.07923179e-09  6.93077262e-10\n",
      "  6.93077262e-10  6.93077262e-10  6.93077262e-10  4.85154084e-09\n",
      "  5.89115676e-09  5.89115676e-09  5.89115676e-09  5.89115676e-09\n",
      "  7.27731128e-09 -6.74622871e-10]\n"
     ]
    }
   ],
   "source": [
    "print(features[\"proposals\"][proposal] - np.array(dataset.data[\"proposal\"].x[idx]))"
   ]
  },
  {
   "cell_type": "markdown",
   "id": "39d2b35b-629b-4a07-8ea9-862ce81a3e8d",
   "metadata": {},
   "source": [
    "### Prediction"
   ]
  },
  {
   "cell_type": "raw",
   "id": "73cb3fe2-620f-48a0-9767-da414a7f3565",
   "metadata": {},
   "source": [
    "Next let's load a GNN model and use it to perform inference on the proposals. We'll then create a dictionary that maps proposals to  \"edge beliefs\"."
   ]
  },
  {
   "cell_type": "code",
   "execution_count": 19,
   "id": "2938dba8-3d9d-41e4-82b0-0e973fc16d3b",
   "metadata": {
    "tags": []
   },
   "outputs": [
    {
     "name": "stderr",
     "output_type": "stream",
     "text": [
      "/opt/conda/lib/python3.10/site-packages/torch/nn/functional.py:1967: UserWarning: nn.functional.sigmoid is deprecated. Use torch.sigmoid instead.\n",
      "  warnings.warn(\"nn.functional.sigmoid is deprecated. Use torch.sigmoid instead.\")\n"
     ]
    }
   ],
   "source": [
    "# Load model\n",
    "model_path = \"neuron_reconstruction/GraphNeuralNet-2024-10-12.pth\"\n",
    "model = ml_util.load_model(model_path)\n",
    "\n",
    "# Generate proposal prediction\n",
    "preds_vector = inference.predict_with_gnn(model, dataset.data, device=\"cpu\")\n",
    "preds_dict = {dataset.idxs_proposals[\"idx_to_id\"][i]: p for i, p in enumerate(preds_vector)}"
   ]
  },
  {
   "cell_type": "code",
   "execution_count": 20,
   "id": "83d8f7fe-58bc-4a0c-95b3-f82284ba6445",
   "metadata": {
    "tags": []
   },
   "outputs": [
    {
     "name": "stdout",
     "output_type": "stream",
     "text": [
      "Edge belief of proposal 'frozenset({187, 54})' is 0.044652752578258514\n"
     ]
    }
   ],
   "source": [
    "proposal = util.sample_once(input_graph.proposals)\n",
    "print(f\"Edge belief of proposal '{proposal}' is {preds_dict[proposal]}\")"
   ]
  },
  {
   "cell_type": "markdown",
   "id": "7a40d8d6-d05c-466e-992f-582bdaec018c",
   "metadata": {},
   "source": [
    "### Accepted Proposals"
   ]
  },
  {
   "cell_type": "raw",
   "id": "39938a1c-816a-4d3b-9e81-64bbe8d57fb7",
   "metadata": {},
   "source": [
    "Lastly, we need to use the edge beliefs to determine which proposals to accept and add to the input graph. The proposals are first filtered by removing any proposal with an edge belief below some threshold (i.e. accePtance_threshold). Next we iterate over the remaining proposals and check that adding this proposal to the input graph (with previously accepted proposals) does not create a cycle. A proposal that satisfies this criteria is said to be accepted."
   ]
  },
  {
   "cell_type": "code",
   "execution_count": 21,
   "id": "150a245f-a247-405e-9903-30ae3a710596",
   "metadata": {
    "tags": []
   },
   "outputs": [
    {
     "name": "stdout",
     "output_type": "stream",
     "text": [
      "% Proposals Accepted: 0.4022222222222222\n"
     ]
    }
   ],
   "source": [
    "acceptance_threshold = 0.75\n",
    "accepts = inference.get_accepts(input_graph, preds_dict, acceptance_threshold)\n",
    "\n",
    "print(\"% Proposals Accepted:\", len(accepts) / input_graph.n_proposals())"
   ]
  },
  {
   "cell_type": "markdown",
   "id": "e1a7ceac-410c-4d7c-8dec-6c099f7470c6",
   "metadata": {},
   "source": [
    "### Results"
   ]
  },
  {
   "cell_type": "raw",
   "id": "655098ea-3f15-407c-9e75-98ef8c3a7b78",
   "metadata": {},
   "source": [
    "First, let's visualize the beliefs of proposals that are in our \"input_graph.gt_accepts\" versus those which are not."
   ]
  },
  {
   "cell_type": "code",
   "execution_count": 22,
   "id": "a3c6c4ef-4b17-4cfa-b633-ee1973768980",
   "metadata": {
    "tags": []
   },
   "outputs": [
    {
     "name": "stdout",
     "output_type": "stream",
     "text": [
      "Median belief of proposals in gt accepts: 0.8532154560089111\n",
      "Median belief of proposals not in gt accepts: 0.1485665887594223\n"
     ]
    }
   ],
   "source": [
    "gt_accept_beliefs = np.array([preds_dict[p] for p in input_graph.gt_accepts])\n",
    "gt_reject_beliefs = np.array([preds_dict[p] for p in input_graph.proposals if p not in input_graph.gt_accepts])\n",
    "\n",
    "print(\"Median belief of proposals in gt accepts:\", np.median(gt_accept_beliefs))\n",
    "print(\"Median belief of proposals not in gt accepts:\", np.median(gt_reject_beliefs))"
   ]
  },
  {
   "cell_type": "code",
   "execution_count": 23,
   "id": "93a56922-db8c-4916-9c7c-8b7341f54374",
   "metadata": {
    "tags": []
   },
   "outputs": [
    {
     "data": {
      "text/plain": [
       "<matplotlib.legend.Legend at 0x7fb7cd359ff0>"
      ]
     },
     "execution_count": 23,
     "metadata": {},
     "output_type": "execute_result"
    },
    {
     "data": {
      "image/png": "[encoded data removed]",
      "text/plain": [
       "<Figure size 1800x450 with 1 Axes>"
      ]
     },
     "metadata": {},
     "output_type": "display_data"
    }
   ],
   "source": [
    "plt.figure(figsize=(18, 4.5))\n",
    "\n",
    "plt.subplot(1, 2, 1)\n",
    "plt.hist(gt_accept_beliefs, bins=30, color='tab:green', alpha=0.7, label='Proposals in gt accepts')\n",
    "plt.hist(gt_reject_beliefs, bins=30, color='tab:red', alpha=0.7, label='Proposals not in gt accepts')\n",
    "plt.xlabel('Belief', fontsize=14)\n",
    "plt.ylabel('Frequency', fontsize=14)\n",
    "plt.title('Proposal Beliefs', fontsize=16)\n",
    "plt.legend()"
   ]
  },
  {
   "cell_type": "raw",
   "id": "7cf09c98-32b1-4fb1-8bfd-5dd755e7b972",
   "metadata": {},
   "source": [
    "There is a built-in module that can be used to compute the accuracy of the model."
   ]
  },
  {
   "cell_type": "code",
   "execution_count": 24,
   "id": "978e6bc2-3b6f-41f4-a2a5-6652692ae870",
   "metadata": {
    "tags": []
   },
   "outputs": [
    {
     "name": "stdout",
     "output_type": "stream",
     "text": [
      "   # splits fixed = 167\n",
      "   # merges created = 14\n",
      "   accuracy_dif = 0.22\n",
      "   accuracy = 0.78\n",
      "   precision = 0.9227\n",
      "   recall = 0.6627\n",
      "   f1 = 0.7714\n"
     ]
    }
   ],
   "source": [
    "# Evaluation\n",
    "results = evaluator.run_evaluation(input_graph, input_graph.list_proposals(), accepts)\n",
    "\n",
    "# Report results\n",
    "results = results[\"Overall\"]\n",
    "for metric in results:\n",
    "    print(f\"   {metric} = {np.round(results[metric], 4)}\")\n"
   ]
  }
 ],
 "metadata": {
  "environment": {
   "kernel": "python3",
   "name": ".m120",
   "type": "gcloud",
   "uri": "us-docker.pkg.dev/deeplearning-platform-release/gcr.io/:m120"
  },
  "kernelspec": {
   "display_name": "Python 3 (Local)",
   "language": "python",
   "name": "python3"
  },
  "language_info": {
   "codemirror_mode": {
    "name": "ipython",
    "version": 3
   },
   "file_extension": ".py",
   "mimetype": "text/x-python",
   "name": "python",
   "nbconvert_exporter": "python",
   "pygments_lexer": "ipython3",
   "version": "3.10.14"
  }
 },
 "nbformat": 4,
 "nbformat_minor": 5
}
